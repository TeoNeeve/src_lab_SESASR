{
 "cells": [
  {
   "cell_type": "code",
   "execution_count": 12,
   "metadata": {},
   "outputs": [],
   "source": [
    "from rosbag2_reader_py import Rosbag2Reader"
   ]
  },
  {
   "cell_type": "markdown",
   "metadata": {},
   "source": [
    "## Open ROS 2 Bag\n",
    "\n",
    "**The file `rosbag2_reader_py.py` shall be in the same folder of the notebook.**"
   ]
  },
  {
   "cell_type": "code",
   "execution_count": 4,
   "metadata": {},
   "outputs": [
    {
     "name": "stderr",
     "output_type": "stream",
     "text": [
      "[INFO] [1733571476.104925274] [rosbag2_storage]: Opened database '/home/federico/lecture_ws/rosbag2_2024_12_07-12_32_45/rosbag2_2024_12_07-12_32_45_0.db3' for READ_ONLY.\n",
      "[INFO] [1733571476.106543527] [rosbag2_storage]: Opened database '/home/federico/lecture_ws/rosbag2_2024_12_07-12_32_45/rosbag2_2024_12_07-12_32_45_0.db3' for READ_ONLY.\n"
     ]
    },
    {
     "data": {
      "text/plain": [
       "{'/ground_truth': 'nav_msgs/msg/Odometry',\n",
       " '/odom': 'nav_msgs/msg/Odometry',\n",
       " '/pf': 'nav_msgs/msg/Odometry'}"
      ]
     },
     "execution_count": 4,
     "metadata": {},
     "output_type": "execute_result"
    }
   ],
   "source": [
    "path = \"/home/federico/lecture_ws/rosbag2_2024_12_07-12_32_45\"\n",
    "\n",
    "reader = Rosbag2Reader(path)\n",
    "topics = reader.all_topics\n",
    "topics"
   ]
  },
  {
   "cell_type": "markdown",
   "metadata": {},
   "source": [
    "## Get total number of messages in the bag"
   ]
  },
  {
   "cell_type": "code",
   "execution_count": 5,
   "metadata": {},
   "outputs": [
    {
     "name": "stderr",
     "output_type": "stream",
     "text": [
      "[INFO] [1733571478.678076060] [rosbag2_storage]: Opened database '/home/federico/lecture_ws/rosbag2_2024_12_07-12_32_45/rosbag2_2024_12_07-12_32_45_0.db3' for READ_ONLY.\n"
     ]
    },
    {
     "name": "stdout",
     "output_type": "stream",
     "text": [
      "Total messages: 3036\n"
     ]
    }
   ],
   "source": [
    "tot_msgs = 0\n",
    "for _ in reader:\n",
    "    tot_msgs += 1\n",
    "\n",
    "print(f\"Total messages: {tot_msgs}\")"
   ]
  },
  {
   "cell_type": "markdown",
   "metadata": {},
   "source": [
    "## Select messages of specific topics"
   ]
  },
  {
   "cell_type": "code",
   "execution_count": 6,
   "metadata": {},
   "outputs": [
    {
     "name": "stderr",
     "output_type": "stream",
     "text": [
      "[INFO] [1733571480.685091419] [rosbag2_storage]: Opened database '/home/federico/lecture_ws/rosbag2_2024_12_07-12_32_45/rosbag2_2024_12_07-12_32_45_0.db3' for READ_ONLY.\n",
      "[INFO] [1733571480.687308297] [rosbag2_storage]: Opened database '/home/federico/lecture_ws/rosbag2_2024_12_07-12_32_45/rosbag2_2024_12_07-12_32_45_0.db3' for READ_ONLY.\n"
     ]
    },
    {
     "name": "stdout",
     "output_type": "stream",
     "text": [
      "After the filter is applyed:  {'/odom': 'nav_msgs/msg/Odometry'}\n",
      "Total messages: 1641\n",
      "After the filter is reset:  {'/ground_truth': 'nav_msgs/msg/Odometry', '/odom': 'nav_msgs/msg/Odometry', '/pf': 'nav_msgs/msg/Odometry'}\n"
     ]
    },
    {
     "name": "stderr",
     "output_type": "stream",
     "text": [
      "[INFO] [1733571481.098999848] [rosbag2_storage]: Opened database '/home/federico/lecture_ws/rosbag2_2024_12_07-12_32_45/rosbag2_2024_12_07-12_32_45_0.db3' for READ_ONLY.\n"
     ]
    }
   ],
   "source": [
    "tot_msgs = 0\n",
    "reader.set_filter([\"/odom\"])\n",
    "for _ in reader:\n",
    "    tot_msgs += 1\n",
    "\n",
    "print(\"After the filter is applyed: \", reader.selected_topics)\n",
    "print(f\"Total messages: {tot_msgs}\")\n",
    "\n",
    "reader.reset_filter() # if you want to read all messages after you set a filter\n",
    "print(\"After the filter is reset: \", reader.selected_topics)"
   ]
  },
  {
   "cell_type": "markdown",
   "metadata": {},
   "source": [
    "## Access only data of a given type\n",
    "\n",
    "In this example you can see  how to access an `Odometry` message checking for its type.\n",
    "\n",
    "Please, notice the difference between **recording time** and time reported in the **stamp**. This is because the message was generated at a time that does not coincide with the time the message was received and recorded. This difference in a real robot may be really small, in the order of microseconds, but for a simulation, as in the reported case, the time could be extremely different. **You shall always use `header.stamp` whenever it is available.**"
   ]
  },
  {
   "cell_type": "code",
   "execution_count": 7,
   "metadata": {},
   "outputs": [
    {
     "name": "stdout",
     "output_type": "stream",
     "text": [
      "Received message of type Odometry on topic /ground_truth recorded at time 1733571165393164413\n",
      "Position (x, y) at time 83794000000: (-2.00, -0.50)\n"
     ]
    },
    {
     "name": "stderr",
     "output_type": "stream",
     "text": [
      "[INFO] [1733571484.910000663] [rosbag2_storage]: Opened database '/home/federico/lecture_ws/rosbag2_2024_12_07-12_32_45/rosbag2_2024_12_07-12_32_45_0.db3' for READ_ONLY.\n"
     ]
    }
   ],
   "source": [
    "from rclpy.time import Time\n",
    "from nav_msgs.msg import Odometry\n",
    "for topic_name, msg, t in reader:\n",
    "    print(f\"Received message of type {type(msg).__name__} on topic {topic_name} recorded at time {t}\")\n",
    "    if type(msg) is Odometry:\n",
    "        time = Time.from_msg(msg.header.stamp).nanoseconds\n",
    "        print(f\"Position (x, y) at time {time}: ({msg.pose.pose.position.x:.2f}, {msg.pose.pose.position.y:.2f})\")\n",
    "    break"
   ]
  },
  {
   "cell_type": "markdown",
   "metadata": {},
   "source": [
    "## Interpolate data to compute metrics\n",
    "\n",
    "In order to compute the metrics for `/odom` and `/ekf` topics, you have to compare the poses reported in these topic with the poses reported in topic `/ground_truth` in the same time instants. \n",
    "\n",
    "Since the data are generated from different nodes at different frequencies, the time of the various topics will be different. So, we need to interpolate ground truth data on the time scale of the topic we want to evaluate.\n",
    "\n",
    "First of all, let us save relevant data from messages in some NumPy arrays. As you can see from the output, the number of points from the two topics is different."
   ]
  },
  {
   "cell_type": "code",
   "execution_count": 8,
   "metadata": {},
   "outputs": [
    {
     "name": "stderr",
     "output_type": "stream",
     "text": [
      "[INFO] [1733571488.262344605] [rosbag2_storage]: Opened database '/home/federico/lecture_ws/rosbag2_2024_12_07-12_32_45/rosbag2_2024_12_07-12_32_45_0.db3' for READ_ONLY.\n"
     ]
    },
    {
     "name": "stdout",
     "output_type": "stream",
     "text": [
      "Ground truth points: 1116\n",
      "Odometry points: 1641\n"
     ]
    }
   ],
   "source": [
    "import numpy as np\n",
    "from scipy.interpolate import interp1d\n",
    "\n",
    "time_gt = []\n",
    "gt_data = []\n",
    "time_odom = []\n",
    "odom_data = []\n",
    "\n",
    "for topic_name, msg, t in reader:\n",
    "    if topic_name == \"/ground_truth\":\n",
    "        time_gt.append(Time.from_msg(msg.header.stamp).nanoseconds)\n",
    "        gt_data.append((msg.pose.pose.position.x, msg.pose.pose.position.y))\n",
    "    elif topic_name == \"/odom\":\n",
    "        time_odom.append(Time.from_msg(msg.header.stamp).nanoseconds)\n",
    "        odom_data.append((msg.pose.pose.position.x, msg.pose.pose.position.y))\n",
    "\n",
    "time_gt = np.array(time_gt)\n",
    "gt_data = np.array(gt_data)\n",
    "time_odom = np.array(time_odom)\n",
    "odom_data = np.array(odom_data)\n",
    "\n",
    "print(f\"Ground truth points: {len(gt_data)}\")\n",
    "print(f\"Odometry points: {len(odom_data)}\")"
   ]
  },
  {
   "cell_type": "markdown",
   "metadata": {},
   "source": [
    "Now, let us create an interpolating function using SciPy `interp1d`."
   ]
  },
  {
   "cell_type": "code",
   "execution_count": 9,
   "metadata": {},
   "outputs": [
    {
     "name": "stdout",
     "output_type": "stream",
     "text": [
      "Interpolated ground truth points: 1641\n"
     ]
    }
   ],
   "source": [
    "gt_interpol = interp1d(time_gt, gt_data, axis=0, fill_value=\"extrapolate\")\n",
    "gt_data_interp = gt_interpol(time_odom)\n",
    "print(f\"Interpolated ground truth points: {len(gt_data_interp)}\")"
   ]
  },
  {
   "cell_type": "markdown",
   "metadata": {},
   "source": [
    "Compute Mean Absolute Error between odometry data and interpolated ground truth. You can find already implemented metrics functionson Portale della Didattica (Lecture_notebooks/Gaussian_filters.zip/utils.py)"
   ]
  },
  {
   "cell_type": "code",
   "execution_count": 10,
   "metadata": {},
   "outputs": [
    {
     "data": {
      "text/plain": [
       "7.718440939056905e-06"
      ]
     },
     "execution_count": 10,
     "metadata": {},
     "output_type": "execute_result"
    }
   ],
   "source": [
    "np.mean(np.linalg.norm(odom_data - gt_data_interp, axis=1), axis=0)"
   ]
  },
  {
   "cell_type": "code",
   "execution_count": 11,
   "metadata": {},
   "outputs": [
    {
     "name": "stderr",
     "output_type": "stream",
     "text": [
      "[INFO] [1733571496.625746012] [rosbag2_storage]: Opened database '/home/federico/lecture_ws/rosbags_lab04/rosbag2_2024_11_22-19_58_02/rosbag2_2024_11_22-19_58_02_0.db3' for READ_ONLY.\n",
      "[INFO] [1733571496.626843015] [rosbag2_storage]: Opened database '/home/federico/lecture_ws/rosbags_lab04/rosbag2_2024_11_22-19_58_02/rosbag2_2024_11_22-19_58_02_0.db3' for READ_ONLY.\n",
      "[INFO] [1733571496.629357018] [rosbag2_storage]: Opened database '/home/federico/lecture_ws/rosbags_lab04/rosbag2_2024_11_22-19_58_02/rosbag2_2024_11_22-19_58_02_0.db3' for READ_ONLY.\n"
     ]
    },
    {
     "name": "stdout",
     "output_type": "stream",
     "text": [
      "RMSE between Ground Truth and Odometry: 0.00\n",
      "MAE between Ground Truth and Odometry: 0.00\n",
      "RMSE between Ground Truth and EKF: 8804.62\n",
      "MAE between Ground Truth and EKF: 5890.90\n"
     ]
    }
   ],
   "source": [
    "################ Task2\n",
    "\n",
    "\n",
    "from rosbag2_reader_py import Rosbag2Reader\n",
    "from rclpy.time import Time\n",
    "from nav_msgs.msg import Odometry\n",
    "from geometry_msgs.msg import PoseStamped\n",
    "import numpy as np\n",
    "from scipy.interpolate import interp1d\n",
    "\n",
    "\n",
    "def _error(actual: np.ndarray, predicted: np.ndarray):\n",
    "    \"\"\" Simple error \"\"\"\n",
    "    return actual - predicted\n",
    "\n",
    "def mse(actual: np.ndarray, predicted: np.ndarray):\n",
    "    \"\"\" Mean Squared Error \"\"\"\n",
    "    if len(actual.shape)==1 and len(predicted.shape)==1:\n",
    "        return np.mean(np.square(_error(actual, predicted)), axis=0)\n",
    "    return np.mean(np.sum(np.square(_error(actual, predicted)), axis=1), axis=0)\n",
    "\n",
    "def rmse(actual: np.ndarray, predicted: np.ndarray):\n",
    "    \"\"\" Root Mean Squared Error \"\"\"\n",
    "    return np.sqrt(mse(actual, predicted))\n",
    "\n",
    "def mae(error: np.ndarray):\n",
    "    \"\"\" Mean Absolute Error \"\"\"\n",
    "    return np.mean(np.abs(error))\n",
    "\n",
    "path = \"/home/federico/lecture_ws/rosbags_lab04/rosbag2_2024_11_22-19_58_02\"\n",
    "\n",
    "reader = Rosbag2Reader(path)\n",
    "\n",
    "time_gt = []\n",
    "gt_data = []\n",
    "time_odom = []\n",
    "odom_data = []\n",
    "time_ekf = []\n",
    "ekf_data = []\n",
    "\n",
    "for topic_name, msg, t in reader:\n",
    "    if topic_name == \"/ground_truth\":\n",
    "        time_gt.append(Time.from_msg(msg.header.stamp).nanoseconds)\n",
    "        gt_data.append((msg.pose.pose.position.x, msg.pose.pose.position.y))\n",
    "    elif topic_name == \"/odom\":\n",
    "        time_odom.append(Time.from_msg(msg.header.stamp).nanoseconds)\n",
    "        odom_data.append((msg.pose.pose.position.x, msg.pose.pose.position.y))\n",
    "    elif topic_name == \"/ekf\":\n",
    "        time_ekf.append(Time.from_msg(msg.header.stamp).nanoseconds)\n",
    "        ekf_data.append((msg.pose.pose.position.x, msg.pose.pose.position.y))\n",
    "\n",
    "time_gt = np.array(time_gt)\n",
    "gt_data = np.array(gt_data)\n",
    "time_odom = np.array(time_odom)\n",
    "odom_data = np.array(odom_data)\n",
    "time_ekf = np.array(time_ekf)\n",
    "ekf_data = np.array(ekf_data)\n",
    "\n",
    "gt_interpol = interp1d(time_gt, gt_data, axis=0, fill_value=\"extrapolate\")\n",
    "gt_data_interp_odom = gt_interpol(time_odom)\n",
    "gt_data_interp_ekf = gt_interpol(time_ekf)\n",
    "\n",
    "error_odom = gt_data_interp_odom - odom_data\n",
    "error_ekf = gt_data_interp_ekf - ekf_data\n",
    "\n",
    "rmse_odom = rmse(gt_data_interp_odom, odom_data)\n",
    "mae_odom = mae(error_odom)\n",
    "rmse_ekf = rmse(gt_data_interp_ekf, ekf_data)\n",
    "mae_ekf = mae(error_ekf)\n",
    "\n",
    "rmse_odom_scalar = np.mean(rmse_odom)\n",
    "mae_odom_scalar = np.mean(mae_odom)\n",
    "rmse_ekf_scalar = np.mean(rmse_ekf)\n",
    "mae_ekf_scalar = np.mean(mae_ekf)\n",
    "\n",
    "# Print results\n",
    "print(f\"RMSE between Ground Truth and Odometry: {rmse_odom_scalar:.2f}\")\n",
    "print(f\"MAE between Ground Truth and Odometry: {mae_odom_scalar:.2f}\")\n",
    "print(f\"RMSE between Ground Truth and EKF: {rmse_ekf_scalar:.2f}\")\n",
    "print(f\"MAE between Ground Truth and EKF: {mae_ekf_scalar:.2f}\")\n"
   ]
  },
  {
   "cell_type": "code",
   "execution_count": 12,
   "metadata": {},
   "outputs": [
    {
     "name": "stdout",
     "output_type": "stream",
     "text": [
      "RMSE between Ground Truth and EKF: 0.15\n",
      "MAE between Ground Truth and EKF: 0.06\n"
     ]
    }
   ],
   "source": [
    "# Normalize timestamps for both Ground Truth and EKF\n",
    "time_gt_norm = time_gt - np.min(time_gt)  # Normalize Ground Truth timestamps\n",
    "time_ekf_norm = time_ekf - np.min(time_ekf)  # Normalize EKF timestamps\n",
    "\n",
    "gt_interpol = interp1d(time_gt_norm, gt_data, axis=0, fill_value=\"extrapolate\")\n",
    "gt_data_interp_ekf = gt_interpol(time_ekf_norm)\n",
    "\n",
    "error_ekf = gt_data_interp_ekf - ekf_data\n",
    "\n",
    "rmse_ekf = rmse(gt_data_interp_ekf, ekf_data)\n",
    "mae_ekf = mae(error_ekf)\n",
    "\n",
    "print(f\"RMSE between Ground Truth and EKF: {rmse_ekf:.2f}\")\n",
    "print(f\"MAE between Ground Truth and EKF: {mae_ekf:.2f}\")"
   ]
  },
  {
   "cell_type": "code",
   "execution_count": 15,
   "metadata": {},
   "outputs": [
    {
     "name": "stderr",
     "output_type": "stream",
     "text": [
      "[INFO] [1733571576.270277530] [rosbag2_storage]: Opened database '/home/federico/lecture_ws/rosbag2_2024_12_07-12_32_45/rosbag2_2024_12_07-12_32_45_0.db3' for READ_ONLY.\n",
      "[INFO] [1733571576.271425634] [rosbag2_storage]: Opened database '/home/federico/lecture_ws/rosbag2_2024_12_07-12_32_45/rosbag2_2024_12_07-12_32_45_0.db3' for READ_ONLY.\n",
      "[INFO] [1733571576.274532808] [rosbag2_storage]: Opened database '/home/federico/lecture_ws/rosbag2_2024_12_07-12_32_45/rosbag2_2024_12_07-12_32_45_0.db3' for READ_ONLY.\n"
     ]
    },
    {
     "ename": "ValueError",
     "evalue": "zero-size array to reduction operation minimum which has no identity",
     "output_type": "error",
     "traceback": [
      "\u001b[0;31m---------------------------------------------------------------------------\u001b[0m",
      "\u001b[0;31mValueError\u001b[0m                                Traceback (most recent call last)",
      "Cell \u001b[0;32mIn[15], line 55\u001b[0m\n\u001b[1;32m     53\u001b[0m \u001b[38;5;66;03m# Normalize timestamps for both Ground Truth and EKF\u001b[39;00m\n\u001b[1;32m     54\u001b[0m time_gt_norm \u001b[38;5;241m=\u001b[39m time_gt \u001b[38;5;241m-\u001b[39m np\u001b[38;5;241m.\u001b[39mmin(time_gt)  \u001b[38;5;66;03m# Normalize Ground Truth timestamps\u001b[39;00m\n\u001b[0;32m---> 55\u001b[0m time_ekf_norm \u001b[38;5;241m=\u001b[39m time_ekf \u001b[38;5;241m-\u001b[39m \u001b[43mnp\u001b[49m\u001b[38;5;241;43m.\u001b[39;49m\u001b[43mmin\u001b[49m\u001b[43m(\u001b[49m\u001b[43mtime_ekf\u001b[49m\u001b[43m)\u001b[49m  \u001b[38;5;66;03m# Normalize EKF timestamps\u001b[39;00m\n\u001b[1;32m     56\u001b[0m time_odom_norm \u001b[38;5;241m=\u001b[39m time_odom \u001b[38;5;241m-\u001b[39m np\u001b[38;5;241m.\u001b[39mmin(time_odom)\n\u001b[1;32m     58\u001b[0m gt_interpol \u001b[38;5;241m=\u001b[39m interp1d(time_gt_norm, gt_data, axis\u001b[38;5;241m=\u001b[39m\u001b[38;5;241m0\u001b[39m, fill_value\u001b[38;5;241m=\u001b[39m\u001b[38;5;124m\"\u001b[39m\u001b[38;5;124mextrapolate\u001b[39m\u001b[38;5;124m\"\u001b[39m)\n",
      "File \u001b[0;32m<__array_function__ internals>:5\u001b[0m, in \u001b[0;36mamin\u001b[0;34m(*args, **kwargs)\u001b[0m\n",
      "File \u001b[0;32m/usr/lib/python3/dist-packages/numpy/core/fromnumeric.py:2879\u001b[0m, in \u001b[0;36mamin\u001b[0;34m(a, axis, out, keepdims, initial, where)\u001b[0m\n\u001b[1;32m   2763\u001b[0m \u001b[38;5;129m@array_function_dispatch\u001b[39m(_amin_dispatcher)\n\u001b[1;32m   2764\u001b[0m \u001b[38;5;28;01mdef\u001b[39;00m \u001b[38;5;21mamin\u001b[39m(a, axis\u001b[38;5;241m=\u001b[39m\u001b[38;5;28;01mNone\u001b[39;00m, out\u001b[38;5;241m=\u001b[39m\u001b[38;5;28;01mNone\u001b[39;00m, keepdims\u001b[38;5;241m=\u001b[39mnp\u001b[38;5;241m.\u001b[39m_NoValue, initial\u001b[38;5;241m=\u001b[39mnp\u001b[38;5;241m.\u001b[39m_NoValue,\n\u001b[1;32m   2765\u001b[0m          where\u001b[38;5;241m=\u001b[39mnp\u001b[38;5;241m.\u001b[39m_NoValue):\n\u001b[1;32m   2766\u001b[0m     \u001b[38;5;124;03m\"\"\"\u001b[39;00m\n\u001b[1;32m   2767\u001b[0m \u001b[38;5;124;03m    Return the minimum of an array or minimum along an axis.\u001b[39;00m\n\u001b[1;32m   2768\u001b[0m \n\u001b[0;32m   (...)\u001b[0m\n\u001b[1;32m   2877\u001b[0m \u001b[38;5;124;03m    6\u001b[39;00m\n\u001b[1;32m   2878\u001b[0m \u001b[38;5;124;03m    \"\"\"\u001b[39;00m\n\u001b[0;32m-> 2879\u001b[0m     \u001b[38;5;28;01mreturn\u001b[39;00m \u001b[43m_wrapreduction\u001b[49m\u001b[43m(\u001b[49m\u001b[43ma\u001b[49m\u001b[43m,\u001b[49m\u001b[43m \u001b[49m\u001b[43mnp\u001b[49m\u001b[38;5;241;43m.\u001b[39;49m\u001b[43mminimum\u001b[49m\u001b[43m,\u001b[49m\u001b[43m \u001b[49m\u001b[38;5;124;43m'\u001b[39;49m\u001b[38;5;124;43mmin\u001b[39;49m\u001b[38;5;124;43m'\u001b[39;49m\u001b[43m,\u001b[49m\u001b[43m \u001b[49m\u001b[43maxis\u001b[49m\u001b[43m,\u001b[49m\u001b[43m \u001b[49m\u001b[38;5;28;43;01mNone\u001b[39;49;00m\u001b[43m,\u001b[49m\u001b[43m \u001b[49m\u001b[43mout\u001b[49m\u001b[43m,\u001b[49m\n\u001b[1;32m   2880\u001b[0m \u001b[43m                          \u001b[49m\u001b[43mkeepdims\u001b[49m\u001b[38;5;241;43m=\u001b[39;49m\u001b[43mkeepdims\u001b[49m\u001b[43m,\u001b[49m\u001b[43m \u001b[49m\u001b[43minitial\u001b[49m\u001b[38;5;241;43m=\u001b[39;49m\u001b[43minitial\u001b[49m\u001b[43m,\u001b[49m\u001b[43m \u001b[49m\u001b[43mwhere\u001b[49m\u001b[38;5;241;43m=\u001b[39;49m\u001b[43mwhere\u001b[49m\u001b[43m)\u001b[49m\n",
      "File \u001b[0;32m/usr/lib/python3/dist-packages/numpy/core/fromnumeric.py:86\u001b[0m, in \u001b[0;36m_wrapreduction\u001b[0;34m(obj, ufunc, method, axis, dtype, out, **kwargs)\u001b[0m\n\u001b[1;32m     83\u001b[0m         \u001b[38;5;28;01melse\u001b[39;00m:\n\u001b[1;32m     84\u001b[0m             \u001b[38;5;28;01mreturn\u001b[39;00m reduction(axis\u001b[38;5;241m=\u001b[39maxis, out\u001b[38;5;241m=\u001b[39mout, \u001b[38;5;241m*\u001b[39m\u001b[38;5;241m*\u001b[39mpasskwargs)\n\u001b[0;32m---> 86\u001b[0m \u001b[38;5;28;01mreturn\u001b[39;00m \u001b[43mufunc\u001b[49m\u001b[38;5;241;43m.\u001b[39;49m\u001b[43mreduce\u001b[49m\u001b[43m(\u001b[49m\u001b[43mobj\u001b[49m\u001b[43m,\u001b[49m\u001b[43m \u001b[49m\u001b[43maxis\u001b[49m\u001b[43m,\u001b[49m\u001b[43m \u001b[49m\u001b[43mdtype\u001b[49m\u001b[43m,\u001b[49m\u001b[43m \u001b[49m\u001b[43mout\u001b[49m\u001b[43m,\u001b[49m\u001b[43m \u001b[49m\u001b[38;5;241;43m*\u001b[39;49m\u001b[38;5;241;43m*\u001b[39;49m\u001b[43mpasskwargs\u001b[49m\u001b[43m)\u001b[49m\n",
      "\u001b[0;31mValueError\u001b[0m: zero-size array to reduction operation minimum which has no identity"
     ]
    }
   ],
   "source": [
    "###################Task1 odom\n",
    "\n",
    "from rosbag2_reader_py import Rosbag2Reader\n",
    "from rclpy.time import Time\n",
    "from nav_msgs.msg import Odometry\n",
    "from geometry_msgs.msg import PoseStamped\n",
    "import numpy as np\n",
    "from scipy.interpolate import interp1d\n",
    "\n",
    "def mse(actual: np.ndarray, predicted: np.ndarray):\n",
    "    \"\"\" Mean Squared Error \"\"\"\n",
    "    if len(actual.shape)==1 and len(predicted.shape)==1:\n",
    "        return np.mean(np.square(_error(actual, predicted)), axis=0)\n",
    "    return np.mean(np.sum(np.square(_error(actual, predicted)), axis=1), axis=0)\n",
    "\n",
    "def rmse(actual: np.ndarray, predicted: np.ndarray):\n",
    "    \"\"\" Root Mean Squared Error \"\"\"\n",
    "    return np.sqrt(mse(actual, predicted))\n",
    "\n",
    "def mae(error: np.ndarray):\n",
    "    \"\"\" Mean Absolute Error \"\"\"\n",
    "    return np.mean(np.abs(error))\n",
    "\n",
    "path = \"/home/federico/lecture_ws/rosbag2_2024_12_07-12_32_45\"\n",
    "\n",
    "reader = Rosbag2Reader(path)\n",
    "\n",
    "time_gt = []\n",
    "gt_data = []\n",
    "time_odom = []\n",
    "odom_data = []\n",
    "time_ekf = []\n",
    "ekf_data = []\n",
    "\n",
    "for topic_name, msg, t in reader:\n",
    "    if topic_name == \"/ground_truth\":\n",
    "        time_gt.append(Time.from_msg(msg.header.stamp).nanoseconds)\n",
    "        gt_data.append((msg.pose.pose.position.x, msg.pose.pose.position.y))\n",
    "    elif topic_name == \"/odom\":\n",
    "        time_odom.append(Time.from_msg(msg.header.stamp).nanoseconds)\n",
    "        odom_data.append((msg.pose.pose.position.x, msg.pose.pose.position.y))\n",
    "    elif topic_name == \"/ekf\":\n",
    "        time_ekf.append(Time.from_msg(msg.header.stamp).nanoseconds)\n",
    "        ekf_data.append((msg.pose.pose.position.x, msg.pose.pose.position.y))\n",
    "\n",
    "time_gt = np.array(time_gt)\n",
    "gt_data = np.array(gt_data)\n",
    "time_odom = np.array(time_odom)\n",
    "odom_data = np.array(odom_data)\n",
    "time_ekf = np.array(time_ekf)\n",
    "ekf_data = np.array(ekf_data)\n",
    "\n",
    "# Normalize timestamps for both Ground Truth and EKF\n",
    "time_gt_norm = time_gt - np.min(time_gt)  # Normalize Ground Truth timestamps\n",
    "time_ekf_norm = time_ekf - np.min(time_ekf)  # Normalize EKF timestamps\n",
    "time_odom_norm = time_odom - np.min(time_odom)\n",
    "\n",
    "gt_interpol = interp1d(time_gt_norm, gt_data, axis=0, fill_value=\"extrapolate\")\n",
    "gt_data_interp_ekf = gt_interpol(time_ekf_norm)\n",
    "\n",
    "error_ekf = gt_data_interp_ekf - ekf_data\n",
    "gt_data_interp_odom = gt_interpol(time_odom_norm)\n",
    "gt_data_interp_ekf = gt_interpol(time_ekf_norm)\n",
    "\n",
    "error_odom = gt_data_interp_odom - odom_data\n",
    "error_ekf = gt_data_interp_ekf - ekf_data\n",
    "\n",
    "rmse_odom = rmse(gt_data_interp_odom, odom_data)\n",
    "mae_odom = mae(error_odom)\n",
    "rmse_ekf = rmse(gt_data_interp_ekf, ekf_data)\n",
    "mae_ekf = mae(error_ekf)\n",
    "\n",
    "rmse_odom_scalar = np.mean(rmse_odom)\n",
    "mae_odom_scalar = np.mean(mae_odom)\n",
    "rmse_ekf_scalar = np.mean(rmse_ekf)\n",
    "mae_ekf_scalar = np.mean(mae_ekf)\n",
    "\n",
    "# Print results\n",
    "print(f\"RMSE between Ground Truth and Odometry: {rmse_odom_scalar:.2f}\")\n",
    "print(f\"MAE between Ground Truth and Odometry: {mae_odom_scalar:.2f}\")\n",
    "print(f\"RMSE between Ground Truth and EKF: {rmse_ekf_scalar:.2f}\")\n",
    "print(f\"MAE between Ground Truth and EKF: {mae_ekf_scalar:.2f}\")\n"
   ]
  },
  {
   "cell_type": "code",
   "execution_count": 12,
   "metadata": {},
   "outputs": [
    {
     "name": "stderr",
     "output_type": "stream",
     "text": [
      "[INFO] [1732636279.609096439] [rosbag2_storage]: Opened database '/home/federico/lecture_ws/rosbags_lab04/sim_task1_cdm/rosbag2_2024_11_20-22_02_07/rosbag2_2024_11_20-22_02_07_0.db3' for READ_ONLY.\n",
      "[INFO] [1732636279.610384591] [rosbag2_storage]: Opened database '/home/federico/lecture_ws/rosbags_lab04/sim_task1_cdm/rosbag2_2024_11_20-22_02_07/rosbag2_2024_11_20-22_02_07_0.db3' for READ_ONLY.\n",
      "[INFO] [1732636279.613174415] [rosbag2_storage]: Opened database '/home/federico/lecture_ws/rosbags_lab04/sim_task1_cdm/rosbag2_2024_11_20-22_02_07/rosbag2_2024_11_20-22_02_07_0.db3' for READ_ONLY.\n"
     ]
    },
    {
     "name": "stdout",
     "output_type": "stream",
     "text": [
      "RMSE between Ground Truth and Odometry: 0.00\n",
      "MAE between Ground Truth and Odometry: 0.00\n",
      "RMSE between Ground Truth and EKF: 0.19\n",
      "MAE between Ground Truth and EKF: 0.08\n"
     ]
    }
   ],
   "source": [
    "###################Task1 cdm\n",
    "\n",
    "from rosbag2_reader_py import Rosbag2Reader\n",
    "from rclpy.time import Time\n",
    "from nav_msgs.msg import Odometry\n",
    "from geometry_msgs.msg import PoseStamped\n",
    "import numpy as np\n",
    "from scipy.interpolate import interp1d\n",
    "\n",
    "def mse(actual: np.ndarray, predicted: np.ndarray):\n",
    "    \"\"\" Mean Squared Error \"\"\"\n",
    "    if len(actual.shape)==1 and len(predicted.shape)==1:\n",
    "        return np.mean(np.square(_error(actual, predicted)), axis=0)\n",
    "    return np.mean(np.sum(np.square(_error(actual, predicted)), axis=1), axis=0)\n",
    "\n",
    "def rmse(actual: np.ndarray, predicted: np.ndarray):\n",
    "    \"\"\" Root Mean Squared Error \"\"\"\n",
    "    return np.sqrt(mse(actual, predicted))\n",
    "\n",
    "def mae(error: np.ndarray):\n",
    "    \"\"\" Mean Absolute Error \"\"\"\n",
    "    return np.mean(np.abs(error))\n",
    "\n",
    "path = \"/home/federico/lecture_ws/rosbags_lab04/sim_task1_cdm/rosbag2_2024_11_20-22_02_07\"\n",
    "\n",
    "reader = Rosbag2Reader(path)\n",
    "\n",
    "time_gt = []\n",
    "gt_data = []\n",
    "time_odom = []\n",
    "odom_data = []\n",
    "time_ekf = []\n",
    "ekf_data = []\n",
    "\n",
    "for topic_name, msg, t in reader:\n",
    "    if topic_name == \"/ground_truth\":\n",
    "        time_gt.append(Time.from_msg(msg.header.stamp).nanoseconds)\n",
    "        gt_data.append((msg.pose.pose.position.x, msg.pose.pose.position.y))\n",
    "    elif topic_name == \"/odom\":\n",
    "        time_odom.append(Time.from_msg(msg.header.stamp).nanoseconds)\n",
    "        odom_data.append((msg.pose.pose.position.x, msg.pose.pose.position.y))\n",
    "    elif topic_name == \"/ekf\":\n",
    "        time_ekf.append(Time.from_msg(msg.header.stamp).nanoseconds)\n",
    "        ekf_data.append((msg.pose.pose.position.x, msg.pose.pose.position.y))\n",
    "\n",
    "time_gt = np.array(time_gt)\n",
    "gt_data = np.array(gt_data)\n",
    "time_odom = np.array(time_odom)\n",
    "odom_data = np.array(odom_data)\n",
    "time_ekf = np.array(time_ekf)\n",
    "ekf_data = np.array(ekf_data)\n",
    "\n",
    "# Normalize timestamps for both Ground Truth and EKF\n",
    "time_gt_norm = time_gt - np.min(time_gt)  # Normalize Ground Truth timestamps\n",
    "time_ekf_norm = time_ekf - np.min(time_ekf)  # Normalize EKF timestamps\n",
    "time_odom_norm = time_odom - np.min(time_odom)\n",
    "\n",
    "gt_interpol = interp1d(time_gt_norm, gt_data, axis=0, fill_value=\"extrapolate\")\n",
    "gt_data_interp_ekf = gt_interpol(time_ekf_norm)\n",
    "\n",
    "error_ekf = gt_data_interp_ekf - ekf_data\n",
    "gt_data_interp_odom = gt_interpol(time_odom_norm)\n",
    "gt_data_interp_ekf = gt_interpol(time_ekf_norm)\n",
    "\n",
    "error_odom = gt_data_interp_odom - odom_data\n",
    "error_ekf = gt_data_interp_ekf - ekf_data\n",
    "\n",
    "rmse_odom = rmse(gt_data_interp_odom, odom_data)\n",
    "mae_odom = mae(error_odom)\n",
    "rmse_ekf = rmse(gt_data_interp_ekf, ekf_data)\n",
    "mae_ekf = mae(error_ekf)\n",
    "\n",
    "rmse_odom_scalar = np.mean(rmse_odom)\n",
    "mae_odom_scalar = np.mean(mae_odom)\n",
    "rmse_ekf_scalar = np.mean(rmse_ekf)\n",
    "mae_ekf_scalar = np.mean(mae_ekf)\n",
    "\n",
    "# Print results\n",
    "print(f\"RMSE between Ground Truth and Odometry: {rmse_odom_scalar:.2f}\")\n",
    "print(f\"MAE between Ground Truth and Odometry: {mae_odom_scalar:.2f}\")\n",
    "print(f\"RMSE between Ground Truth and EKF: {rmse_ekf_scalar:.2f}\")\n",
    "print(f\"MAE between Ground Truth and EKF: {mae_ekf_scalar:.2f}\")\n"
   ]
  }
 ],
 "metadata": {
  "kernelspec": {
   "display_name": "Python 3",
   "language": "python",
   "name": "python3"
  },
  "language_info": {
   "codemirror_mode": {
    "name": "ipython",
    "version": 3
   },
   "file_extension": ".py",
   "mimetype": "text/x-python",
   "name": "python",
   "nbconvert_exporter": "python",
   "pygments_lexer": "ipython3",
   "version": "3.10.12"
  }
 },
 "nbformat": 4,
 "nbformat_minor": 2
}
