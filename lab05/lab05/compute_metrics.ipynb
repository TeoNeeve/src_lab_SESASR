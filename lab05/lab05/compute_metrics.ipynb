{
 "cells": [
  {
   "cell_type": "code",
   "execution_count": 7,
   "metadata": {},
   "outputs": [],
   "source": [
    "from rosbag2_reader_py import Rosbag2Reader"
   ]
  },
  {
   "cell_type": "markdown",
   "metadata": {},
   "source": [
    "## Open ROS 2 Bag\n",
    "\n",
    "**The file `rosbag2_reader_py.py` shall be in the same folder of the notebook.**"
   ]
  },
  {
   "cell_type": "code",
   "execution_count": 8,
   "metadata": {},
   "outputs": [
    {
     "name": "stderr",
     "output_type": "stream",
     "text": [
      "[INFO] [1732568818.515260790] [rosbag2_storage]: Opened database '/home/federico/lecture_ws/rosbags_lab04/rosbag2_2024_11_22-19_58_02/rosbag2_2024_11_22-19_58_02_0.db3' for READ_ONLY.\n",
      "[INFO] [1732568818.516483538] [rosbag2_storage]: Opened database '/home/federico/lecture_ws/rosbags_lab04/rosbag2_2024_11_22-19_58_02/rosbag2_2024_11_22-19_58_02_0.db3' for READ_ONLY.\n"
     ]
    },
    {
     "data": {
      "text/plain": [
       "{'/ekf': 'nav_msgs/msg/Odometry',\n",
       " '/ground_truth': 'nav_msgs/msg/Odometry',\n",
       " '/odom': 'nav_msgs/msg/Odometry'}"
      ]
     },
     "execution_count": 8,
     "metadata": {},
     "output_type": "execute_result"
    }
   ],
   "source": [
    "path = \"/home/federico/lecture_ws/rosbags_lab04/rosbag2_2024_11_22-19_58_02\"\n",
    "\n",
    "reader = Rosbag2Reader(path)\n",
    "topics = reader.all_topics\n",
    "topics"
   ]
  },
  {
   "cell_type": "markdown",
   "metadata": {},
   "source": [
    "## Get total number of messages in the bag"
   ]
  },
  {
   "cell_type": "code",
   "execution_count": 9,
   "metadata": {},
   "outputs": [
    {
     "name": "stderr",
     "output_type": "stream",
     "text": [
      "[INFO] [1732568825.201415153] [rosbag2_storage]: Opened database '/home/federico/lecture_ws/rosbags_lab04/rosbag2_2024_11_22-19_58_02/rosbag2_2024_11_22-19_58_02_0.db3' for READ_ONLY.\n"
     ]
    },
    {
     "name": "stdout",
     "output_type": "stream",
     "text": [
      "Total messages: 5542\n"
     ]
    }
   ],
   "source": [
    "tot_msgs = 0\n",
    "for _ in reader:\n",
    "    tot_msgs += 1\n",
    "\n",
    "print(f\"Total messages: {tot_msgs}\")"
   ]
  },
  {
   "cell_type": "markdown",
   "metadata": {},
   "source": [
    "## Select messages of specific topics"
   ]
  },
  {
   "cell_type": "code",
   "execution_count": 10,
   "metadata": {},
   "outputs": [
    {
     "name": "stderr",
     "output_type": "stream",
     "text": [
      "[INFO] [1732568836.874218457] [rosbag2_storage]: Opened database '/home/federico/lecture_ws/rosbags_lab04/rosbag2_2024_11_22-19_58_02/rosbag2_2024_11_22-19_58_02_0.db3' for READ_ONLY.\n",
      "[INFO] [1732568836.875577327] [rosbag2_storage]: Opened database '/home/federico/lecture_ws/rosbags_lab04/rosbag2_2024_11_22-19_58_02/rosbag2_2024_11_22-19_58_02_0.db3' for READ_ONLY.\n"
     ]
    },
    {
     "name": "stdout",
     "output_type": "stream",
     "text": [
      "After the filter is applyed:  {'/odom': 'nav_msgs/msg/Odometry'}\n",
      "Total messages: 2582\n",
      "After the filter is reset:  {'/ekf': 'nav_msgs/msg/Odometry', '/ground_truth': 'nav_msgs/msg/Odometry', '/odom': 'nav_msgs/msg/Odometry'}\n"
     ]
    },
    {
     "name": "stderr",
     "output_type": "stream",
     "text": [
      "[INFO] [1732568837.300235975] [rosbag2_storage]: Opened database '/home/federico/lecture_ws/rosbags_lab04/rosbag2_2024_11_22-19_58_02/rosbag2_2024_11_22-19_58_02_0.db3' for READ_ONLY.\n"
     ]
    }
   ],
   "source": [
    "tot_msgs = 0\n",
    "reader.set_filter([\"/odom\"])\n",
    "for _ in reader:\n",
    "    tot_msgs += 1\n",
    "\n",
    "print(\"After the filter is applyed: \", reader.selected_topics)\n",
    "print(f\"Total messages: {tot_msgs}\")\n",
    "\n",
    "reader.reset_filter() # if you want to read all messages after you set a filter\n",
    "print(\"After the filter is reset: \", reader.selected_topics)"
   ]
  },
  {
   "cell_type": "markdown",
   "metadata": {},
   "source": [
    "## Access only data of a given type\n",
    "\n",
    "In this example you can see  how to access an `Odometry` message checking for its type.\n",
    "\n",
    "Please, notice the difference between **recording time** and time reported in the **stamp**. This is because the message was generated at a time that does not coincide with the time the message was received and recorded. This difference in a real robot may be really small, in the order of microseconds, but for a simulation, as in the reported case, the time could be extremely different. **You shall always use `header.stamp` whenever it is available.**"
   ]
  },
  {
   "cell_type": "code",
   "execution_count": 11,
   "metadata": {},
   "outputs": [
    {
     "name": "stdout",
     "output_type": "stream",
     "text": [
      "Received message of type Odometry on topic /odom recorded at time 1732301882677025509\n",
      "Position (x, y) at time 20085000000: (-2.00, -0.50)\n"
     ]
    },
    {
     "name": "stderr",
     "output_type": "stream",
     "text": [
      "[INFO] [1732568850.412180206] [rosbag2_storage]: Opened database '/home/federico/lecture_ws/rosbags_lab04/rosbag2_2024_11_22-19_58_02/rosbag2_2024_11_22-19_58_02_0.db3' for READ_ONLY.\n"
     ]
    }
   ],
   "source": [
    "from rclpy.time import Time\n",
    "from nav_msgs.msg import Odometry\n",
    "for topic_name, msg, t in reader:\n",
    "    print(f\"Received message of type {type(msg).__name__} on topic {topic_name} recorded at time {t}\")\n",
    "    if type(msg) is Odometry:\n",
    "        time = Time.from_msg(msg.header.stamp).nanoseconds\n",
    "        print(f\"Position (x, y) at time {time}: ({msg.pose.pose.position.x:.2f}, {msg.pose.pose.position.y:.2f})\")\n",
    "    break"
   ]
  },
  {
   "cell_type": "markdown",
   "metadata": {},
   "source": [
    "## Interpolate data to compute metrics\n",
    "\n",
    "In order to compute the metrics for `/odom` and `/ekf` topics, you have to compare the poses reported in these topic with the poses reported in topic `/ground_truth` in the same time instants. \n",
    "\n",
    "Since the data are generated from different nodes at different frequencies, the time of the various topics will be different. So, we need to interpolate ground truth data on the time scale of the topic we want to evaluate.\n",
    "\n",
    "First of all, let us save relevant data from messages in some NumPy arrays. As you can see from the output, the number of points from the two topics is different."
   ]
  },
  {
   "cell_type": "code",
   "execution_count": 15,
   "metadata": {},
   "outputs": [
    {
     "name": "stderr",
     "output_type": "stream",
     "text": [
      "[INFO] [1732569055.923755094] [rosbag2_storage]: Opened database '/home/federico/lecture_ws/rosbags_lab04/rosbag2_2024_11_22-19_58_02/rosbag2_2024_11_22-19_58_02_0.db3' for READ_ONLY.\n"
     ]
    },
    {
     "name": "stdout",
     "output_type": "stream",
     "text": [
      "Ground truth points: 1756\n",
      "Odometry points: 2582\n"
     ]
    }
   ],
   "source": [
    "import numpy as np\n",
    "from scipy.interpolate import interp1d\n",
    "\n",
    "time_gt = []\n",
    "gt_data = []\n",
    "time_odom = []\n",
    "odom_data = []\n",
    "\n",
    "for topic_name, msg, t in reader:\n",
    "    if topic_name == \"/ground_truth\":\n",
    "        time_gt.append(Time.from_msg(msg.header.stamp).nanoseconds)\n",
    "        gt_data.append((msg.pose.pose.position.x, msg.pose.pose.position.y))\n",
    "    elif topic_name == \"/odom\":\n",
    "        time_odom.append(Time.from_msg(msg.header.stamp).nanoseconds)\n",
    "        odom_data.append((msg.pose.pose.position.x, msg.pose.pose.position.y))\n",
    "\n",
    "time_gt = np.array(time_gt)\n",
    "gt_data = np.array(gt_data)\n",
    "time_odom = np.array(time_odom)\n",
    "odom_data = np.array(odom_data)\n",
    "\n",
    "print(f\"Ground truth points: {len(gt_data)}\")\n",
    "print(f\"Odometry points: {len(odom_data)}\")"
   ]
  },
  {
   "cell_type": "markdown",
   "metadata": {},
   "source": [
    "Now, let us create an interpolating function using SciPy `interp1d`."
   ]
  },
  {
   "cell_type": "code",
   "execution_count": 16,
   "metadata": {},
   "outputs": [
    {
     "name": "stdout",
     "output_type": "stream",
     "text": [
      "Interpolated ground truth points: 2582\n"
     ]
    }
   ],
   "source": [
    "gt_interpol = interp1d(time_gt, gt_data, axis=0, fill_value=\"extrapolate\")\n",
    "gt_data_interp = gt_interpol(time_odom)\n",
    "print(f\"Interpolated ground truth points: {len(gt_data_interp)}\")"
   ]
  },
  {
   "cell_type": "markdown",
   "metadata": {},
   "source": [
    "Compute Mean Absolute Error between odometry data and interpolated ground truth. You can find already implemented metrics functionson Portale della Didattica (Lecture_notebooks/Gaussian_filters.zip/utils.py)"
   ]
  },
  {
   "cell_type": "code",
   "execution_count": 17,
   "metadata": {},
   "outputs": [
    {
     "data": {
      "text/plain": [
       "np.float64(3.189979817822099e-06)"
      ]
     },
     "execution_count": 17,
     "metadata": {},
     "output_type": "execute_result"
    }
   ],
   "source": [
    "np.mean(np.linalg.norm(odom_data - gt_data_interp, axis=1), axis=0)"
   ]
  },
  {
   "cell_type": "code",
   "execution_count": 3,
   "metadata": {},
   "outputs": [
    {
     "name": "stderr",
     "output_type": "stream",
     "text": [
      "[INFO] [1732616230.218392840] [rosbag2_storage]: Opened database '/home/federico/lecture_ws/rosbags_lab04/rosbag2_2024_11_22-19_58_02/rosbag2_2024_11_22-19_58_02_0.db3' for READ_ONLY.\n",
      "[INFO] [1732616230.219418579] [rosbag2_storage]: Opened database '/home/federico/lecture_ws/rosbags_lab04/rosbag2_2024_11_22-19_58_02/rosbag2_2024_11_22-19_58_02_0.db3' for READ_ONLY.\n",
      "[INFO] [1732616230.221084585] [rosbag2_storage]: Opened database '/home/federico/lecture_ws/rosbags_lab04/rosbag2_2024_11_22-19_58_02/rosbag2_2024_11_22-19_58_02_0.db3' for READ_ONLY.\n"
     ]
    },
    {
     "name": "stdout",
     "output_type": "stream",
     "text": [
      "RMSE between Ground Truth and Odometry: 0.00\n",
      "MAE between Ground Truth and Odometry: 0.00\n",
      "RMSE between Ground Truth and EKF: 8804.62\n",
      "MAE between Ground Truth and EKF: 5890.90\n"
     ]
    }
   ],
   "source": [
    "################ Task2\n",
    "\n",
    "\n",
    "from rosbag2_reader_py import Rosbag2Reader\n",
    "from rclpy.time import Time\n",
    "from nav_msgs.msg import Odometry\n",
    "from geometry_msgs.msg import PoseStamped\n",
    "import numpy as np\n",
    "from scipy.interpolate import interp1d\n",
    "\n",
    "\n",
    "def _error(actual: np.ndarray, predicted: np.ndarray):\n",
    "    \"\"\" Simple error \"\"\"\n",
    "    return actual - predicted\n",
    "\n",
    "def mse(actual: np.ndarray, predicted: np.ndarray):\n",
    "    \"\"\" Mean Squared Error \"\"\"\n",
    "    if len(actual.shape)==1 and len(predicted.shape)==1:\n",
    "        return np.mean(np.square(_error(actual, predicted)), axis=0)\n",
    "    return np.mean(np.sum(np.square(_error(actual, predicted)), axis=1), axis=0)\n",
    "\n",
    "def rmse(actual: np.ndarray, predicted: np.ndarray):\n",
    "    \"\"\" Root Mean Squared Error \"\"\"\n",
    "    return np.sqrt(mse(actual, predicted))\n",
    "\n",
    "def mae(error: np.ndarray):\n",
    "    \"\"\" Mean Absolute Error \"\"\"\n",
    "    return np.mean(np.abs(error))\n",
    "\n",
    "path = \"/home/federico/lecture_ws/rosbags_lab04/rosbag2_2024_11_22-19_58_02\"\n",
    "\n",
    "reader = Rosbag2Reader(path)\n",
    "\n",
    "time_gt = []\n",
    "gt_data = []\n",
    "time_odom = []\n",
    "odom_data = []\n",
    "time_ekf = []\n",
    "ekf_data = []\n",
    "\n",
    "for topic_name, msg, t in reader:\n",
    "    if topic_name == \"/ground_truth\":\n",
    "        time_gt.append(Time.from_msg(msg.header.stamp).nanoseconds)\n",
    "        gt_data.append((msg.pose.pose.position.x, msg.pose.pose.position.y))\n",
    "    elif topic_name == \"/odom\":\n",
    "        time_odom.append(Time.from_msg(msg.header.stamp).nanoseconds)\n",
    "        odom_data.append((msg.pose.pose.position.x, msg.pose.pose.position.y))\n",
    "    elif topic_name == \"/ekf\":\n",
    "        time_ekf.append(Time.from_msg(msg.header.stamp).nanoseconds)\n",
    "        ekf_data.append((msg.pose.pose.position.x, msg.pose.pose.position.y))\n",
    "\n",
    "time_gt = np.array(time_gt)\n",
    "gt_data = np.array(gt_data)\n",
    "time_odom = np.array(time_odom)\n",
    "odom_data = np.array(odom_data)\n",
    "time_ekf = np.array(time_ekf)\n",
    "ekf_data = np.array(ekf_data)\n",
    "\n",
    "gt_interpol = interp1d(time_gt, gt_data, axis=0, fill_value=\"extrapolate\")\n",
    "gt_data_interp_odom = gt_interpol(time_odom)\n",
    "gt_data_interp_ekf = gt_interpol(time_ekf)\n",
    "\n",
    "error_odom = gt_data_interp_odom - odom_data\n",
    "error_ekf = gt_data_interp_ekf - ekf_data\n",
    "\n",
    "rmse_odom = rmse(gt_data_interp_odom, odom_data)\n",
    "mae_odom = mae(error_odom)\n",
    "rmse_ekf = rmse(gt_data_interp_ekf, ekf_data)\n",
    "mae_ekf = mae(error_ekf)\n",
    "\n",
    "rmse_odom_scalar = np.mean(rmse_odom)\n",
    "mae_odom_scalar = np.mean(mae_odom)\n",
    "rmse_ekf_scalar = np.mean(rmse_ekf)\n",
    "mae_ekf_scalar = np.mean(mae_ekf)\n",
    "\n",
    "# Print results\n",
    "print(f\"RMSE between Ground Truth and Odometry: {rmse_odom_scalar:.2f}\")\n",
    "print(f\"MAE between Ground Truth and Odometry: {mae_odom_scalar:.2f}\")\n",
    "print(f\"RMSE between Ground Truth and EKF: {rmse_ekf_scalar:.2f}\")\n",
    "print(f\"MAE between Ground Truth and EKF: {mae_ekf_scalar:.2f}\")\n"
   ]
  },
  {
   "cell_type": "code",
   "execution_count": 4,
   "metadata": {},
   "outputs": [
    {
     "name": "stdout",
     "output_type": "stream",
     "text": [
      "RMSE between Ground Truth and EKF: 0.15\n",
      "MAE between Ground Truth and EKF: 0.06\n"
     ]
    }
   ],
   "source": [
    "# Normalize timestamps for both Ground Truth and EKF\n",
    "time_gt_norm = time_gt - np.min(time_gt)  # Normalize Ground Truth timestamps\n",
    "time_ekf_norm = time_ekf - np.min(time_ekf)  # Normalize EKF timestamps\n",
    "\n",
    "gt_interpol = interp1d(time_gt_norm, gt_data, axis=0, fill_value=\"extrapolate\")\n",
    "gt_data_interp_ekf = gt_interpol(time_ekf_norm)\n",
    "\n",
    "error_ekf = gt_data_interp_ekf - ekf_data\n",
    "\n",
    "rmse_ekf = rmse(gt_data_interp_ekf, ekf_data)\n",
    "mae_ekf = mae(error_ekf)\n",
    "\n",
    "print(f\"RMSE between Ground Truth and EKF: {rmse_ekf:.2f}\")\n",
    "print(f\"MAE between Ground Truth and EKF: {mae_ekf:.2f}\")"
   ]
  },
  {
   "cell_type": "code",
   "execution_count": 11,
   "metadata": {},
   "outputs": [
    {
     "name": "stderr",
     "output_type": "stream",
     "text": [
      "[INFO] [1732617843.795087086] [rosbag2_storage]: Opened database '/home/federico/lecture_ws/rosbags_lab04/rosbag2_2024_11_22-17_32_28/rosbag2_2024_11_22-17_32_28_0.db3' for READ_ONLY.\n",
      "[INFO] [1732617843.796741901] [rosbag2_storage]: Opened database '/home/federico/lecture_ws/rosbags_lab04/rosbag2_2024_11_22-17_32_28/rosbag2_2024_11_22-17_32_28_0.db3' for READ_ONLY.\n",
      "[INFO] [1732617843.798273487] [rosbag2_storage]: Opened database '/home/federico/lecture_ws/rosbags_lab04/rosbag2_2024_11_22-17_32_28/rosbag2_2024_11_22-17_32_28_0.db3' for READ_ONLY.\n"
     ]
    },
    {
     "name": "stdout",
     "output_type": "stream",
     "text": [
      "RMSE between Ground Truth and Odometry: 0.00\n",
      "MAE between Ground Truth and Odometry: 0.00\n",
      "RMSE between Ground Truth and EKF: 0.54\n",
      "MAE between Ground Truth and EKF: 0.24\n"
     ]
    }
   ],
   "source": [
    "###################Task1 odom\n",
    "\n",
    "from rosbag2_reader_py import Rosbag2Reader\n",
    "from rclpy.time import Time\n",
    "from nav_msgs.msg import Odometry\n",
    "from geometry_msgs.msg import PoseStamped\n",
    "import numpy as np\n",
    "from scipy.interpolate import interp1d\n",
    "\n",
    "def mse(actual: np.ndarray, predicted: np.ndarray):\n",
    "    \"\"\" Mean Squared Error \"\"\"\n",
    "    if len(actual.shape)==1 and len(predicted.shape)==1:\n",
    "        return np.mean(np.square(_error(actual, predicted)), axis=0)\n",
    "    return np.mean(np.sum(np.square(_error(actual, predicted)), axis=1), axis=0)\n",
    "\n",
    "def rmse(actual: np.ndarray, predicted: np.ndarray):\n",
    "    \"\"\" Root Mean Squared Error \"\"\"\n",
    "    return np.sqrt(mse(actual, predicted))\n",
    "\n",
    "def mae(error: np.ndarray):\n",
    "    \"\"\" Mean Absolute Error \"\"\"\n",
    "    return np.mean(np.abs(error))\n",
    "\n",
    "path = \"/home/federico/lecture_ws/rosbags_lab04/rosbag2_2024_11_22-17_32_28\"\n",
    "\n",
    "reader = Rosbag2Reader(path)\n",
    "\n",
    "time_gt = []\n",
    "gt_data = []\n",
    "time_odom = []\n",
    "odom_data = []\n",
    "time_ekf = []\n",
    "ekf_data = []\n",
    "\n",
    "for topic_name, msg, t in reader:\n",
    "    if topic_name == \"/ground_truth\":\n",
    "        time_gt.append(Time.from_msg(msg.header.stamp).nanoseconds)\n",
    "        gt_data.append((msg.pose.pose.position.x, msg.pose.pose.position.y))\n",
    "    elif topic_name == \"/odom\":\n",
    "        time_odom.append(Time.from_msg(msg.header.stamp).nanoseconds)\n",
    "        odom_data.append((msg.pose.pose.position.x, msg.pose.pose.position.y))\n",
    "    elif topic_name == \"/ekf\":\n",
    "        time_ekf.append(Time.from_msg(msg.header.stamp).nanoseconds)\n",
    "        ekf_data.append((msg.pose.pose.position.x, msg.pose.pose.position.y))\n",
    "\n",
    "time_gt = np.array(time_gt)\n",
    "gt_data = np.array(gt_data)\n",
    "time_odom = np.array(time_odom)\n",
    "odom_data = np.array(odom_data)\n",
    "time_ekf = np.array(time_ekf)\n",
    "ekf_data = np.array(ekf_data)\n",
    "\n",
    "# Normalize timestamps for both Ground Truth and EKF\n",
    "time_gt_norm = time_gt - np.min(time_gt)  # Normalize Ground Truth timestamps\n",
    "time_ekf_norm = time_ekf - np.min(time_ekf)  # Normalize EKF timestamps\n",
    "time_odom_norm = time_odom - np.min(time_odom)\n",
    "\n",
    "gt_interpol = interp1d(time_gt_norm, gt_data, axis=0, fill_value=\"extrapolate\")\n",
    "gt_data_interp_ekf = gt_interpol(time_ekf_norm)\n",
    "\n",
    "error_ekf = gt_data_interp_ekf - ekf_data\n",
    "gt_data_interp_odom = gt_interpol(time_odom_norm)\n",
    "gt_data_interp_ekf = gt_interpol(time_ekf_norm)\n",
    "\n",
    "error_odom = gt_data_interp_odom - odom_data\n",
    "error_ekf = gt_data_interp_ekf - ekf_data\n",
    "\n",
    "rmse_odom = rmse(gt_data_interp_odom, odom_data)\n",
    "mae_odom = mae(error_odom)\n",
    "rmse_ekf = rmse(gt_data_interp_ekf, ekf_data)\n",
    "mae_ekf = mae(error_ekf)\n",
    "\n",
    "rmse_odom_scalar = np.mean(rmse_odom)\n",
    "mae_odom_scalar = np.mean(mae_odom)\n",
    "rmse_ekf_scalar = np.mean(rmse_ekf)\n",
    "mae_ekf_scalar = np.mean(mae_ekf)\n",
    "\n",
    "# Print results\n",
    "print(f\"RMSE between Ground Truth and Odometry: {rmse_odom_scalar:.2f}\")\n",
    "print(f\"MAE between Ground Truth and Odometry: {mae_odom_scalar:.2f}\")\n",
    "print(f\"RMSE between Ground Truth and EKF: {rmse_ekf_scalar:.2f}\")\n",
    "print(f\"MAE between Ground Truth and EKF: {mae_ekf_scalar:.2f}\")\n"
   ]
  },
  {
   "cell_type": "code",
   "execution_count": 12,
   "metadata": {},
   "outputs": [
    {
     "name": "stderr",
     "output_type": "stream",
     "text": [
      "[INFO] [1732636279.609096439] [rosbag2_storage]: Opened database '/home/federico/lecture_ws/rosbags_lab04/sim_task1_cdm/rosbag2_2024_11_20-22_02_07/rosbag2_2024_11_20-22_02_07_0.db3' for READ_ONLY.\n",
      "[INFO] [1732636279.610384591] [rosbag2_storage]: Opened database '/home/federico/lecture_ws/rosbags_lab04/sim_task1_cdm/rosbag2_2024_11_20-22_02_07/rosbag2_2024_11_20-22_02_07_0.db3' for READ_ONLY.\n",
      "[INFO] [1732636279.613174415] [rosbag2_storage]: Opened database '/home/federico/lecture_ws/rosbags_lab04/sim_task1_cdm/rosbag2_2024_11_20-22_02_07/rosbag2_2024_11_20-22_02_07_0.db3' for READ_ONLY.\n"
     ]
    },
    {
     "name": "stdout",
     "output_type": "stream",
     "text": [
      "RMSE between Ground Truth and Odometry: 0.00\n",
      "MAE between Ground Truth and Odometry: 0.00\n",
      "RMSE between Ground Truth and EKF: 0.19\n",
      "MAE between Ground Truth and EKF: 0.08\n"
     ]
    }
   ],
   "source": [
    "###################Task1 cdm\n",
    "\n",
    "from rosbag2_reader_py import Rosbag2Reader\n",
    "from rclpy.time import Time\n",
    "from nav_msgs.msg import Odometry\n",
    "from geometry_msgs.msg import PoseStamped\n",
    "import numpy as np\n",
    "from scipy.interpolate import interp1d\n",
    "\n",
    "def mse(actual: np.ndarray, predicted: np.ndarray):\n",
    "    \"\"\" Mean Squared Error \"\"\"\n",
    "    if len(actual.shape)==1 and len(predicted.shape)==1:\n",
    "        return np.mean(np.square(_error(actual, predicted)), axis=0)\n",
    "    return np.mean(np.sum(np.square(_error(actual, predicted)), axis=1), axis=0)\n",
    "\n",
    "def rmse(actual: np.ndarray, predicted: np.ndarray):\n",
    "    \"\"\" Root Mean Squared Error \"\"\"\n",
    "    return np.sqrt(mse(actual, predicted))\n",
    "\n",
    "def mae(error: np.ndarray):\n",
    "    \"\"\" Mean Absolute Error \"\"\"\n",
    "    return np.mean(np.abs(error))\n",
    "\n",
    "path = \"/home/federico/lecture_ws/rosbags_lab04/sim_task1_cdm/rosbag2_2024_11_20-22_02_07\"\n",
    "\n",
    "reader = Rosbag2Reader(path)\n",
    "\n",
    "time_gt = []\n",
    "gt_data = []\n",
    "time_odom = []\n",
    "odom_data = []\n",
    "time_ekf = []\n",
    "ekf_data = []\n",
    "\n",
    "for topic_name, msg, t in reader:\n",
    "    if topic_name == \"/ground_truth\":\n",
    "        time_gt.append(Time.from_msg(msg.header.stamp).nanoseconds)\n",
    "        gt_data.append((msg.pose.pose.position.x, msg.pose.pose.position.y))\n",
    "    elif topic_name == \"/odom\":\n",
    "        time_odom.append(Time.from_msg(msg.header.stamp).nanoseconds)\n",
    "        odom_data.append((msg.pose.pose.position.x, msg.pose.pose.position.y))\n",
    "    elif topic_name == \"/ekf\":\n",
    "        time_ekf.append(Time.from_msg(msg.header.stamp).nanoseconds)\n",
    "        ekf_data.append((msg.pose.pose.position.x, msg.pose.pose.position.y))\n",
    "\n",
    "time_gt = np.array(time_gt)\n",
    "gt_data = np.array(gt_data)\n",
    "time_odom = np.array(time_odom)\n",
    "odom_data = np.array(odom_data)\n",
    "time_ekf = np.array(time_ekf)\n",
    "ekf_data = np.array(ekf_data)\n",
    "\n",
    "# Normalize timestamps for both Ground Truth and EKF\n",
    "time_gt_norm = time_gt - np.min(time_gt)  # Normalize Ground Truth timestamps\n",
    "time_ekf_norm = time_ekf - np.min(time_ekf)  # Normalize EKF timestamps\n",
    "time_odom_norm = time_odom - np.min(time_odom)\n",
    "\n",
    "gt_interpol = interp1d(time_gt_norm, gt_data, axis=0, fill_value=\"extrapolate\")\n",
    "gt_data_interp_ekf = gt_interpol(time_ekf_norm)\n",
    "\n",
    "error_ekf = gt_data_interp_ekf - ekf_data\n",
    "gt_data_interp_odom = gt_interpol(time_odom_norm)\n",
    "gt_data_interp_ekf = gt_interpol(time_ekf_norm)\n",
    "\n",
    "error_odom = gt_data_interp_odom - odom_data\n",
    "error_ekf = gt_data_interp_ekf - ekf_data\n",
    "\n",
    "rmse_odom = rmse(gt_data_interp_odom, odom_data)\n",
    "mae_odom = mae(error_odom)\n",
    "rmse_ekf = rmse(gt_data_interp_ekf, ekf_data)\n",
    "mae_ekf = mae(error_ekf)\n",
    "\n",
    "rmse_odom_scalar = np.mean(rmse_odom)\n",
    "mae_odom_scalar = np.mean(mae_odom)\n",
    "rmse_ekf_scalar = np.mean(rmse_ekf)\n",
    "mae_ekf_scalar = np.mean(mae_ekf)\n",
    "\n",
    "# Print results\n",
    "print(f\"RMSE between Ground Truth and Odometry: {rmse_odom_scalar:.2f}\")\n",
    "print(f\"MAE between Ground Truth and Odometry: {mae_odom_scalar:.2f}\")\n",
    "print(f\"RMSE between Ground Truth and EKF: {rmse_ekf_scalar:.2f}\")\n",
    "print(f\"MAE between Ground Truth and EKF: {mae_ekf_scalar:.2f}\")\n"
   ]
  }
 ],
 "metadata": {
  "kernelspec": {
   "display_name": "myenv",
   "language": "python",
   "name": "python3"
  },
  "language_info": {
   "codemirror_mode": {
    "name": "ipython",
    "version": 3
   },
   "file_extension": ".py",
   "mimetype": "text/x-python",
   "name": "python",
   "nbconvert_exporter": "python",
   "pygments_lexer": "ipython3",
   "version": "3.10.12"
  }
 },
 "nbformat": 4,
 "nbformat_minor": 2
}
